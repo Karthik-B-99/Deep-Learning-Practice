{
 "cells": [
  {
   "cell_type": "code",
   "execution_count": null,
   "metadata": {},
   "outputs": [],
   "source": [
    "#Practice the examples at https://www.w3schools.com/python/python_ml_getting_started.asp\n",
    "#to implement the basic concepts in machine learning"
   ]
  },
  {
   "cell_type": "code",
   "execution_count": null,
   "metadata": {},
   "outputs": [],
   "source": []
  },
  {
   "cell_type": "code",
   "execution_count": null,
   "metadata": {},
   "outputs": [],
   "source": [
    "#Mean Median Mode"
   ]
  },
  {
   "cell_type": "code",
   "execution_count": 54,
   "metadata": {},
   "outputs": [],
   "source": [
    "import numpy"
   ]
  },
  {
   "cell_type": "code",
   "execution_count": 55,
   "metadata": {},
   "outputs": [
    {
     "name": "stdout",
     "output_type": "stream",
     "text": [
      "89.76923076923077\n"
     ]
    }
   ],
   "source": [
    "speed = [99,86,87,88,111,86,103,87,94,78,77,85,86]\n",
    "x = numpy.mean(speed)\n",
    "print(x)"
   ]
  },
  {
   "cell_type": "code",
   "execution_count": 56,
   "metadata": {},
   "outputs": [
    {
     "name": "stdout",
     "output_type": "stream",
     "text": [
      "80.3\n"
     ]
    }
   ],
   "source": [
    "speed = [10,50,90,70,40,110,150,85,98,100]\n",
    "x = numpy.mean(speed)\n",
    "print(x)"
   ]
  },
  {
   "cell_type": "code",
   "execution_count": 57,
   "metadata": {},
   "outputs": [
    {
     "name": "stdout",
     "output_type": "stream",
     "text": [
      "87.0\n"
     ]
    }
   ],
   "source": [
    "speed = [99,86,87,88,111,86,103,87,94,78,77,85,86]\n",
    "x = numpy.median(speed)\n",
    "print(x)"
   ]
  },
  {
   "cell_type": "code",
   "execution_count": 9,
   "metadata": {},
   "outputs": [
    {
     "name": "stdout",
     "output_type": "stream",
     "text": [
      "86.0\n"
     ]
    }
   ],
   "source": [
    "speed = [99,86,87,88,111,86,103,87,4,78,77,85,86]\n",
    "x = numpy.median(speed)\n",
    "print(x)"
   ]
  },
  {
   "cell_type": "code",
   "execution_count": 58,
   "metadata": {},
   "outputs": [
    {
     "name": "stdout",
     "output_type": "stream",
     "text": [
      "87.5\n"
     ]
    }
   ],
   "source": [
    "speed = [10,50,90,70,40,110,150,85,98,100]\n",
    "x = numpy.median(speed)\n",
    "print(x)"
   ]
  },
  {
   "cell_type": "code",
   "execution_count": 59,
   "metadata": {},
   "outputs": [],
   "source": [
    "from scipy import stats"
   ]
  },
  {
   "cell_type": "code",
   "execution_count": 60,
   "metadata": {},
   "outputs": [
    {
     "name": "stdout",
     "output_type": "stream",
     "text": [
      "ModeResult(mode=array([86]), count=array([3]))\n"
     ]
    }
   ],
   "source": [
    "speed = [99,86,87,88,111,86,103,87,94,78,77,85,86]\n",
    "x = stats.mode(speed)\n",
    "print(x)"
   ]
  },
  {
   "cell_type": "code",
   "execution_count": 61,
   "metadata": {},
   "outputs": [
    {
     "name": "stdout",
     "output_type": "stream",
     "text": [
      "ModeResult(mode=array([90]), count=array([4]))\n"
     ]
    }
   ],
   "source": [
    "speed = [90,87,20,90,56,80,90,100,112,90,40,15,160]\n",
    "x = stats.mode(speed)\n",
    "print(x)"
   ]
  },
  {
   "cell_type": "code",
   "execution_count": null,
   "metadata": {},
   "outputs": [],
   "source": []
  },
  {
   "cell_type": "code",
   "execution_count": null,
   "metadata": {},
   "outputs": [],
   "source": [
    "#Standard Deviation"
   ]
  },
  {
   "cell_type": "code",
   "execution_count": 65,
   "metadata": {},
   "outputs": [
    {
     "name": "stdout",
     "output_type": "stream",
     "text": [
      "0.9035079029052513\n"
     ]
    }
   ],
   "source": [
    "speed = [86,87,88,86,87,85,86]\n",
    "x = numpy.std(speed)\n",
    "print(x)"
   ]
  },
  {
   "cell_type": "code",
   "execution_count": 66,
   "metadata": {},
   "outputs": [
    {
     "name": "stdout",
     "output_type": "stream",
     "text": [
      "37.84501153334721\n"
     ]
    }
   ],
   "source": [
    "speed = [32,111,138,28,59,77,97]\n",
    "x = numpy.std(speed)\n",
    "print(x)"
   ]
  },
  {
   "cell_type": "code",
   "execution_count": 67,
   "metadata": {},
   "outputs": [
    {
     "name": "stdout",
     "output_type": "stream",
     "text": [
      "1432.2448979591834\n"
     ]
    }
   ],
   "source": [
    "speed = [32,111,138,28,59,77,97]\n",
    "x = numpy.var(speed)\n",
    "print(x)"
   ]
  },
  {
   "cell_type": "code",
   "execution_count": null,
   "metadata": {},
   "outputs": [],
   "source": []
  },
  {
   "cell_type": "code",
   "execution_count": null,
   "metadata": {},
   "outputs": [],
   "source": [
    "#Percentile"
   ]
  },
  {
   "cell_type": "code",
   "execution_count": 68,
   "metadata": {},
   "outputs": [
    {
     "name": "stdout",
     "output_type": "stream",
     "text": [
      "43.0\n"
     ]
    }
   ],
   "source": [
    "ages = [5,31,43,48,50,41,7,11,15,39,80,82,32,2,8,6,25,36,27,61,31]\n",
    "x = numpy.percentile(ages, 75)\n",
    "print(x)"
   ]
  },
  {
   "cell_type": "code",
   "execution_count": 69,
   "metadata": {},
   "outputs": [
    {
     "name": "stdout",
     "output_type": "stream",
     "text": [
      "61.0\n"
     ]
    }
   ],
   "source": [
    "ages = [5,31,43,48,50,41,7,11,15,39,80,82,32,2,8,6,25,36,27,61,31]\n",
    "x = numpy.percentile(ages, 90)\n",
    "print(x)"
   ]
  },
  {
   "cell_type": "code",
   "execution_count": 71,
   "metadata": {},
   "outputs": [
    {
     "name": "stdout",
     "output_type": "stream",
     "text": [
      "95.39999999999999\n"
     ]
    }
   ],
   "source": [
    "marks = [60,70,90,96,98,85,88,98]\n",
    "x = numpy.percentile(marks, 70)\n",
    "print(x)"
   ]
  },
  {
   "cell_type": "code",
   "execution_count": null,
   "metadata": {},
   "outputs": [],
   "source": []
  },
  {
   "cell_type": "code",
   "execution_count": null,
   "metadata": {},
   "outputs": [],
   "source": [
    "#Data Distribution"
   ]
  },
  {
   "cell_type": "code",
   "execution_count": 22,
   "metadata": {},
   "outputs": [
    {
     "name": "stdout",
     "output_type": "stream",
     "text": [
      "[3.77755733 0.53268533 3.36242768 0.65103769 2.6695848  1.75017639\n",
      " 3.72759293 4.33611578 1.509093   3.49995754 3.00727385 2.79902943\n",
      " 4.08913619 0.35581747 2.25703282 4.18427712 2.95910193 3.91543338\n",
      " 2.26208681 2.53979242 4.16971335 2.34134169 1.92802959 4.90275144\n",
      " 1.35077061 3.28385627 2.25822812 0.59284302 2.85486123 3.54387336\n",
      " 0.22392628 4.88435305 3.83731973 0.97530741 4.71959392 1.32246367\n",
      " 4.38868948 1.06894196 1.10787739 0.18723179 3.98305932 3.12779631\n",
      " 3.29154403 0.75248778 0.72469314 0.89148446 2.98828244 2.90427344\n",
      " 4.37056471 4.63244688 4.23776447 3.49887724 4.97469749 1.38469333\n",
      " 0.27070082 2.14620217 0.65444189 1.09209287 2.90052452 4.67780739\n",
      " 4.14698574 4.67135568 1.05392945 3.09699299 3.03997125 1.76603002\n",
      " 4.26659673 3.53655077 3.94653617 4.74940337 0.7102486  3.78319162\n",
      " 0.80686629 2.21896501 1.18166861 1.12840975 0.59976242 2.2935999\n",
      " 4.82274357 2.27126126 0.69247378 4.99414709 2.48008034 3.54768261\n",
      " 4.85028957 2.41590713 3.3424066  2.92726728 1.00522558 2.47874579\n",
      " 0.45086622 2.03102204 4.28833112 4.87811681 4.47939525 2.18562265\n",
      " 3.05968982 4.66170093 1.39061934 0.91890302 0.67655442 4.02589757\n",
      " 4.50995323 0.04783835 3.92830223 0.39707841 4.33848173 1.00743249\n",
      " 1.71206799 4.1794047  1.51044944 0.34812057 3.82035307 4.48798957\n",
      " 2.15613496 0.05502518 2.98575536 3.58081301 1.49946261 4.93338878\n",
      " 4.98268731 0.88263265 3.1878332  0.36790419 2.93765145 3.13608988\n",
      " 1.84132373 0.65367836 1.34501733 2.5602268  4.81059266 0.51377561\n",
      " 3.61966778 2.98201941 1.20831527 0.88421172 0.03409621 1.13413905\n",
      " 3.90359852 2.03378974 0.94069709 1.20860031 2.93507225 3.52713729\n",
      " 0.99386353 4.22886837 4.53890186 0.06600974 3.24556336 2.71755733\n",
      " 2.62956809 3.88226913 4.8028336  3.29936565 1.45749822 0.49005097\n",
      " 4.0151581  3.21340074 4.95970678 0.65314423 1.6868141  4.16524306\n",
      " 2.46453082 0.51982876 1.33957431 1.24642573 4.19059969 0.22144376\n",
      " 1.73725949 4.05722533 0.05371354 4.58910909 4.07428971 1.77407622\n",
      " 0.44927509 1.91502912 1.96116029 4.37702972 1.01864444 4.41890547\n",
      " 0.30119273 3.90920328 2.35066239 3.69180708 1.04396338 4.92387246\n",
      " 2.05649234 4.4377131  3.02556033 3.44992252 4.10102431 0.70406325\n",
      " 3.59095868 3.03768936 4.73835709 3.1681942  4.87601805 0.73259659\n",
      " 4.42528658 0.64632114 0.82444336 3.66158447 1.39037043 4.5892796\n",
      " 2.49332218 3.54333199 4.82882351 4.33491652 3.33921198 1.76138386\n",
      " 4.7836196  4.67837038 1.92714549 0.6098166  4.51917691 2.64634441\n",
      " 2.66444831 4.87969854 3.72242464 0.34522416 3.3172236  4.31874072\n",
      " 2.00208046 2.43344608 1.36353707 2.78675946 0.41552521 3.49095408\n",
      " 2.67365025 1.9911117  2.0175651  3.27002443 1.41785812 4.48211159\n",
      " 4.50513399 0.1259021  2.99481386 3.61070922 2.33452009 0.22864522\n",
      " 4.2455825  4.385933   3.41905869 4.31989005 2.12540557 4.77082913\n",
      " 2.29585036 2.48848159 3.3288106  4.47769034]\n"
     ]
    }
   ],
   "source": [
    "x = numpy.random.uniform(0.0, 5.0, 250)\n",
    "print(x)"
   ]
  },
  {
   "cell_type": "code",
   "execution_count": 72,
   "metadata": {},
   "outputs": [
    {
     "name": "stdout",
     "output_type": "stream",
     "text": [
      "[0.89154914 3.90829713 2.36104294 1.29740202 3.46199623 4.90242539\n",
      " 1.23126794 3.95121901 3.81167622 0.60019896]\n"
     ]
    }
   ],
   "source": [
    "x = numpy.random.uniform(0, 5, 10)\n",
    "print(x)"
   ]
  },
  {
   "cell_type": "code",
   "execution_count": 73,
   "metadata": {},
   "outputs": [],
   "source": [
    "import matplotlib.pyplot as plt"
   ]
  },
  {
   "cell_type": "code",
   "execution_count": 74,
   "metadata": {},
   "outputs": [
    {
     "data": {
      "image/png": "[encoded data removed]",
      "text/plain": [
       "<Figure size 432x288 with 1 Axes>"
      ]
     },
     "metadata": {
      "needs_background": "light"
     },
     "output_type": "display_data"
    }
   ],
   "source": [
    "x = numpy.random.uniform(0.0, 5.0, 250)\n",
    "plt.hist(x, 5)\n",
    "plt.show()"
   ]
  },
  {
   "cell_type": "code",
   "execution_count": 75,
   "metadata": {},
   "outputs": [
    {
     "data": {
      "image/png": "[encoded data removed]",
      "text/plain": [
       "<Figure size 432x288 with 1 Axes>"
      ]
     },
     "metadata": {
      "needs_background": "light"
     },
     "output_type": "display_data"
    }
   ],
   "source": [
    "x = numpy.random.uniform(0.0, 5.0, 10)\n",
    "plt.hist(x, 5)\n",
    "plt.show()"
   ]
  },
  {
   "cell_type": "code",
   "execution_count": 76,
   "metadata": {},
   "outputs": [
    {
     "data": {
      "image/png": "[encoded data removed]",
      "text/plain": [
       "<Figure size 432x288 with 1 Axes>"
      ]
     },
     "metadata": {
      "needs_background": "light"
     },
     "output_type": "display_data"
    }
   ],
   "source": [
    "x = numpy.random.uniform(0.0, 5.0, 100000)\n",
    "plt.hist(x, 100)\n",
    "plt.show()"
   ]
  },
  {
   "cell_type": "code",
   "execution_count": null,
   "metadata": {},
   "outputs": [],
   "source": []
  },
  {
   "cell_type": "code",
   "execution_count": null,
   "metadata": {},
   "outputs": [],
   "source": [
    "#Normal Data Distribution"
   ]
  },
  {
   "cell_type": "code",
   "execution_count": 77,
   "metadata": {},
   "outputs": [
    {
     "data": {
      "image/png": "[encoded data removed]",
      "text/plain": [
       "<Figure size 432x288 with 1 Axes>"
      ]
     },
     "metadata": {
      "needs_background": "light"
     },
     "output_type": "display_data"
    }
   ],
   "source": [
    "x = numpy.random.normal(5.0, 1.0, 100000)\n",
    "plt.hist(x, 100)\n",
    "plt.show()"
   ]
  },
  {
   "cell_type": "code",
   "execution_count": 78,
   "metadata": {},
   "outputs": [
    {
     "data": {
      "image/png": "[encoded data removed]",
      "text/plain": [
       "<Figure size 432x288 with 1 Axes>"
      ]
     },
     "metadata": {
      "needs_background": "light"
     },
     "output_type": "display_data"
    }
   ],
   "source": [
    "x = numpy.random.normal(5.0, 1.0, 100000)\n",
    "plt.hist(x, 50)\n",
    "plt.show()"
   ]
  },
  {
   "cell_type": "code",
   "execution_count": null,
   "metadata": {},
   "outputs": [],
   "source": []
  },
  {
   "cell_type": "code",
   "execution_count": null,
   "metadata": {},
   "outputs": [],
   "source": [
    "#Scatter Plot"
   ]
  },
  {
   "cell_type": "code",
   "execution_count": 79,
   "metadata": {},
   "outputs": [
    {
     "data": {
      "image/png": "[encoded data removed]",
      "text/plain": [
       "<Figure size 432x288 with 1 Axes>"
      ]
     },
     "metadata": {
      "needs_background": "light"
     },
     "output_type": "display_data"
    }
   ],
   "source": [
    "x = [5,7,8,7,2,17,2,9,4,11,12,9,6]\n",
    "y = [99,86,87,88,111,86,103,87,94,78,77,85,86]\n",
    "plt.scatter(x, y)\n",
    "plt.show()"
   ]
  },
  {
   "cell_type": "code",
   "execution_count": 80,
   "metadata": {},
   "outputs": [
    {
     "data": {
      "image/png": "[encoded data removed]",
      "text/plain": [
       "<Figure size 432x288 with 1 Axes>"
      ]
     },
     "metadata": {
      "needs_background": "light"
     },
     "output_type": "display_data"
    }
   ],
   "source": [
    "x = [5,10,15,20,25,30,35,40,45,50,55,60,65]\n",
    "y = [7,14,28,35,42,49,56,63,70,77,84,91,98]\n",
    "plt.scatter(x, y)\n",
    "plt.show()"
   ]
  },
  {
   "cell_type": "code",
   "execution_count": 81,
   "metadata": {},
   "outputs": [
    {
     "data": {
      "image/png": "[encoded data removed]",
      "text/plain": [
       "<Figure size 432x288 with 1 Axes>"
      ]
     },
     "metadata": {
      "needs_background": "light"
     },
     "output_type": "display_data"
    }
   ],
   "source": [
    "x = numpy.random.normal(5.0, 1.0, 1000)\n",
    "y = numpy.random.normal(10.0, 2.0, 1000)\n",
    "plt.scatter(x, y)\n",
    "plt.show()"
   ]
  },
  {
   "cell_type": "code",
   "execution_count": 82,
   "metadata": {},
   "outputs": [
    {
     "data": {
      "image/png": "[encoded data removed]",
      "text/plain": [
       "<Figure size 432x288 with 1 Axes>"
      ]
     },
     "metadata": {
      "needs_background": "light"
     },
     "output_type": "display_data"
    }
   ],
   "source": [
    "x = [5,7,8,7,2,17,2,9,4,11,12,9,6]\n",
    "y = [99,86,87,88,111,86,103,87,94,78,77,85,86]\n",
    "plt.scatter(x, y)\n",
    "plt.show()"
   ]
  },
  {
   "cell_type": "code",
   "execution_count": null,
   "metadata": {},
   "outputs": [],
   "source": []
  },
  {
   "cell_type": "code",
   "execution_count": null,
   "metadata": {},
   "outputs": [],
   "source": [
    "#Linear Regression"
   ]
  },
  {
   "cell_type": "code",
   "execution_count": 83,
   "metadata": {},
   "outputs": [
    {
     "data": {
      "image/png": "[encoded data removed]",
      "text/plain": [
       "<Figure size 432x288 with 1 Axes>"
      ]
     },
     "metadata": {
      "needs_background": "light"
     },
     "output_type": "display_data"
    }
   ],
   "source": [
    "x = [5,7,8,7,2,17,2,9,4,11,12,9,6]\n",
    "y = [99,86,87,88,111,86,103,87,94,78,77,85,86]\n",
    "\n",
    "slope, intercept, r, p, std_err = stats.linregress(x, y)\n",
    "\n",
    "def myfunc(x):\n",
    "  return slope * x + intercept\n",
    "\n",
    "mymodel = list(map(myfunc, x))\n",
    "\n",
    "plt.scatter(x, y)\n",
    "plt.plot(x, mymodel)\n",
    "plt.show()"
   ]
  },
  {
   "cell_type": "code",
   "execution_count": 85,
   "metadata": {},
   "outputs": [
    {
     "name": "stdout",
     "output_type": "stream",
     "text": [
      "-0.758591524376155\n"
     ]
    }
   ],
   "source": [
    "x = [5,7,8,7,2,17,2,9,4,11,12,9,6]\n",
    "y = [99,86,87,88,111,86,103,87,94,78,77,85,86]\n",
    "\n",
    "slope, intercept, r, p, std_err = stats.linregress(x, y)\n",
    "\n",
    "print(r)"
   ]
  },
  {
   "cell_type": "code",
   "execution_count": 86,
   "metadata": {},
   "outputs": [
    {
     "name": "stdout",
     "output_type": "stream",
     "text": [
      "85.59308314937454\n"
     ]
    }
   ],
   "source": [
    "x = [5,7,8,7,2,17,2,9,4,11,12,9,6]\n",
    "y = [99,86,87,88,111,86,103,87,94,78,77,85,86]\n",
    "\n",
    "slope, intercept, r, p, std_err = stats.linregress(x, y)\n",
    "\n",
    "def myfunc(x):\n",
    "  return slope * x + intercept\n",
    "\n",
    "speed = myfunc(10)\n",
    "\n",
    "print(speed)"
   ]
  },
  {
   "cell_type": "code",
   "execution_count": 38,
   "metadata": {},
   "outputs": [
    {
     "data": {
      "image/png": "[encoded data removed]",
      "text/plain": [
       "<Figure size 432x288 with 1 Axes>"
      ]
     },
     "metadata": {
      "needs_background": "light"
     },
     "output_type": "display_data"
    }
   ],
   "source": [
    "x = [89,43,36,36,95,10,66,34,38,20,26,29,48,64,6,5,36,66,72,40]\n",
    "y = [21,46,3,35,67,95,53,72,58,10,26,34,90,33,38,20,56,2,47,15]\n",
    "\n",
    "slope, intercept, r, p, std_err = stats.linregress(x, y)\n",
    "\n",
    "def myfunc(x):\n",
    "  return slope * x + intercept\n",
    "\n",
    "mymodel = list(map(myfunc, x))\n",
    "\n",
    "plt.scatter(x, y)\n",
    "plt.plot(x, mymodel)\n",
    "plt.show()"
   ]
  },
  {
   "cell_type": "code",
   "execution_count": 87,
   "metadata": {},
   "outputs": [
    {
     "name": "stdout",
     "output_type": "stream",
     "text": [
      "0.01331814154297491\n"
     ]
    }
   ],
   "source": [
    "x = [89,43,36,36,95,10,66,34,38,20,26,29,48,64,6,5,36,66,72,40]\n",
    "y = [21,46,3,35,67,95,53,72,58,10,26,34,90,33,38,20,56,2,47,15]\n",
    "\n",
    "slope, intercept, r, p, std_err = stats.linregress(x, y)\n",
    "\n",
    "print(r)"
   ]
  },
  {
   "cell_type": "code",
   "execution_count": 40,
   "metadata": {},
   "outputs": [
    {
     "data": {
      "image/png": "[encoded data removed]",
      "text/plain": [
       "<Figure size 432x288 with 1 Axes>"
      ]
     },
     "metadata": {
      "needs_background": "light"
     },
     "output_type": "display_data"
    }
   ],
   "source": [
    "x = [1,2,3,5,6,7,8,9,10,12,13,14,15,16,18,19,21,22]\n",
    "y = [100,90,80,60,60,55,60,65,70,70,75,76,78,79,90,99,99,100]\n",
    "\n",
    "plt.scatter(x, y)\n",
    "plt.show()"
   ]
  },
  {
   "cell_type": "code",
   "execution_count": null,
   "metadata": {},
   "outputs": [],
   "source": []
  },
  {
   "cell_type": "code",
   "execution_count": null,
   "metadata": {},
   "outputs": [],
   "source": [
    "#Polynomial Regression"
   ]
  },
  {
   "cell_type": "code",
   "execution_count": 89,
   "metadata": {},
   "outputs": [
    {
     "data": {
      "image/png": "[encoded data removed]",
      "text/plain": [
       "<Figure size 432x288 with 1 Axes>"
      ]
     },
     "metadata": {
      "needs_background": "light"
     },
     "output_type": "display_data"
    }
   ],
   "source": [
    "x = [1,2,3,5,6,7,8,9,10,12,13,14,15,16,18,19,21,22]\n",
    "y = [100,90,80,60,60,55,60,65,70,70,75,76,78,79,90,99,99,100]\n",
    "\n",
    "mymodel = numpy.poly1d(numpy.polyfit(x, y, 3))\n",
    "\n",
    "myline = numpy.linspace(1, 22, 100)\n",
    "\n",
    "plt.scatter(x, y)\n",
    "plt.plot(myline, mymodel(myline))\n",
    "plt.show()"
   ]
  },
  {
   "cell_type": "code",
   "execution_count": 90,
   "metadata": {},
   "outputs": [],
   "source": [
    "from sklearn.metrics import r2_score"
   ]
  },
  {
   "cell_type": "code",
   "execution_count": 91,
   "metadata": {},
   "outputs": [
    {
     "name": "stdout",
     "output_type": "stream",
     "text": [
      "0.9432150416451027\n"
     ]
    }
   ],
   "source": [
    "x = [1,2,3,5,6,7,8,9,10,12,13,14,15,16,18,19,21,22]\n",
    "y = [100,90,80,60,60,55,60,65,70,70,75,76,78,79,90,99,99,100]\n",
    "mymodel = numpy.poly1d(numpy.polyfit(x, y, 3))\n",
    "print(r2_score(y, mymodel(x)))"
   ]
  },
  {
   "cell_type": "code",
   "execution_count": 92,
   "metadata": {},
   "outputs": [
    {
     "name": "stdout",
     "output_type": "stream",
     "text": [
      "88.87331269697987\n"
     ]
    }
   ],
   "source": [
    "x = [1,2,3,5,6,7,8,9,10,12,13,14,15,16,18,19,21,22]\n",
    "y = [100,90,80,60,60,55,60,65,70,70,75,76,78,79,90,99,99,100]\n",
    "\n",
    "mymodel = numpy.poly1d(numpy.polyfit(x, y, 3))\n",
    "\n",
    "speed = mymodel(17)\n",
    "print(speed)"
   ]
  },
  {
   "cell_type": "code",
   "execution_count": 93,
   "metadata": {},
   "outputs": [
    {
     "data": {
      "image/png": "[encoded data removed]",
      "text/plain": [
       "<Figure size 432x288 with 1 Axes>"
      ]
     },
     "metadata": {
      "needs_background": "light"
     },
     "output_type": "display_data"
    }
   ],
   "source": [
    "x = [89,43,36,36,95,10,66,34,38,20,26,29,48,64,6,5,36,66,72,40]\n",
    "y = [21,46,3,35,67,95,53,72,58,10,26,34,90,33,38,20,56,2,47,15]\n",
    "\n",
    "mymodel = numpy.poly1d(numpy.polyfit(x, y, 3))\n",
    "\n",
    "myline = numpy.linspace(2, 95, 100)\n",
    "\n",
    "plt.scatter(x, y)\n",
    "plt.plot(myline, mymodel(myline))\n",
    "plt.show()"
   ]
  },
  {
   "cell_type": "code",
   "execution_count": 94,
   "metadata": {},
   "outputs": [
    {
     "name": "stdout",
     "output_type": "stream",
     "text": [
      "0.009952707566680652\n"
     ]
    }
   ],
   "source": [
    "x = [89,43,36,36,95,10,66,34,38,20,26,29,48,64,6,5,36,66,72,40]\n",
    "y = [21,46,3,35,67,95,53,72,58,10,26,34,90,33,38,20,56,2,47,15]\n",
    "mymodel = numpy.poly1d(numpy.polyfit(x, y, 3))\n",
    "print(r2_score(y, mymodel(x)))"
   ]
  },
  {
   "cell_type": "code",
   "execution_count": 95,
   "metadata": {},
   "outputs": [
    {
     "name": "stdout",
     "output_type": "stream",
     "text": [
      "0.9432150416451027\n"
     ]
    }
   ],
   "source": [
    "x = [1,2,3,5,6,7,8,9,10,12,13,14,15,16,18,19,21,22]\n",
    "y = [100,90,80,60,60,55,60,65,70,70,75,76,78,79,90,99,99,100]\n",
    "\n",
    "mymodel = numpy.poly1d(numpy.polyfit(x, y, 3))\n",
    "\n",
    "print(r2_score(y, mymodel(x)))"
   ]
  },
  {
   "cell_type": "code",
   "execution_count": 96,
   "metadata": {},
   "outputs": [
    {
     "name": "stdout",
     "output_type": "stream",
     "text": [
      "88.87331269697987\n"
     ]
    }
   ],
   "source": [
    "x = [1,2,3,5,6,7,8,9,10,12,13,14,15,16,18,19,21,22]\n",
    "y = [100,90,80,60,60,55,60,65,70,70,75,76,78,79,90,99,99,100]\n",
    "\n",
    "mymodel = numpy.poly1d(numpy.polyfit(x, y, 3))\n",
    "\n",
    "speed = mymodel(17)\n",
    "print(speed)"
   ]
  },
  {
   "cell_type": "code",
   "execution_count": 11,
   "metadata": {},
   "outputs": [
    {
     "data": {
      "image/png": "[encoded data removed]",
      "text/plain": [
       "<Figure size 432x288 with 1 Axes>"
      ]
     },
     "metadata": {
      "needs_background": "light"
     },
     "output_type": "display_data"
    }
   ],
   "source": [
    "x = [89,43,36,36,95,10,66,34,38,20,26,29,48,64,6,5,36,66,72,40]\n",
    "y = [21,46,3,35,67,95,53,72,58,10,26,34,90,33,38,20,56,2,47,15]\n",
    "\n",
    "mymodel = numpy.poly1d(numpy.polyfit(x, y, 3))\n",
    "\n",
    "myline = numpy.linspace(2, 95, 100)\n",
    "\n",
    "plt.scatter(x, y)\n",
    "plt.plot(myline, mymodel(myline))\n",
    "plt.show()"
   ]
  },
  {
   "cell_type": "code",
   "execution_count": 97,
   "metadata": {},
   "outputs": [
    {
     "name": "stdout",
     "output_type": "stream",
     "text": [
      "0.009952707566680652\n"
     ]
    }
   ],
   "source": [
    "x = [89,43,36,36,95,10,66,34,38,20,26,29,48,64,6,5,36,66,72,40]\n",
    "y = [21,46,3,35,67,95,53,72,58,10,26,34,90,33,38,20,56,2,47,15]\n",
    "\n",
    "mymodel = numpy.poly1d(numpy.polyfit(x, y, 3))\n",
    "\n",
    "print(r2_score(y, mymodel(x)))"
   ]
  },
  {
   "cell_type": "code",
   "execution_count": null,
   "metadata": {},
   "outputs": [],
   "source": []
  },
  {
   "cell_type": "code",
   "execution_count": null,
   "metadata": {},
   "outputs": [],
   "source": [
    "#Multiple Regression"
   ]
  },
  {
   "cell_type": "code",
   "execution_count": 99,
   "metadata": {},
   "outputs": [],
   "source": [
    "import pandas"
   ]
  },
  {
   "cell_type": "code",
   "execution_count": 100,
   "metadata": {},
   "outputs": [],
   "source": [
    "from sklearn import linear_model"
   ]
  },
  {
   "cell_type": "code",
   "execution_count": 101,
   "metadata": {},
   "outputs": [
    {
     "name": "stdout",
     "output_type": "stream",
     "text": [
      "[107.2087328]\n"
     ]
    }
   ],
   "source": [
    "df = pandas.read_csv(\"cars.csv\")\n",
    "\n",
    "X = df[['Weight', 'Volume']]\n",
    "y = df['CO2']\n",
    "\n",
    "regr = linear_model.LinearRegression()\n",
    "regr.fit(X, y)\n",
    "\n",
    "#predict the CO2 emission of a car where the weight is 2300kg, and the volume is 1300cm3:\n",
    "predictedCO2 = regr.predict([[2300, 1300]])\n",
    "\n",
    "print(predictedCO2)"
   ]
  },
  {
   "cell_type": "code",
   "execution_count": 102,
   "metadata": {},
   "outputs": [
    {
     "name": "stdout",
     "output_type": "stream",
     "text": [
      "[0.00755095 0.00780526]\n"
     ]
    }
   ],
   "source": [
    "df = pandas.read_csv(\"cars.csv\")\n",
    "\n",
    "X = df[['Weight', 'Volume']]\n",
    "y = df['CO2']\n",
    "\n",
    "regr = linear_model.LinearRegression()\n",
    "regr.fit(X, y)\n",
    "\n",
    "print(regr.coef_)"
   ]
  },
  {
   "cell_type": "code",
   "execution_count": 103,
   "metadata": {},
   "outputs": [
    {
     "name": "stdout",
     "output_type": "stream",
     "text": [
      "[114.75968007]\n"
     ]
    }
   ],
   "source": [
    "df = pandas.read_csv(\"cars.csv\")\n",
    "\n",
    "X = df[['Weight', 'Volume']]\n",
    "y = df['CO2']\n",
    "\n",
    "regr = linear_model.LinearRegression()\n",
    "regr.fit(X, y)\n",
    "\n",
    "predictedCO2 = regr.predict([[3300, 1300]])\n",
    "\n",
    "print(predictedCO2)"
   ]
  },
  {
   "cell_type": "code",
   "execution_count": null,
   "metadata": {},
   "outputs": [],
   "source": []
  },
  {
   "cell_type": "code",
   "execution_count": null,
   "metadata": {},
   "outputs": [],
   "source": [
    "#Scale"
   ]
  },
  {
   "cell_type": "code",
   "execution_count": 31,
   "metadata": {},
   "outputs": [],
   "source": [
    "from sklearn.preprocessing import StandardScaler"
   ]
  },
  {
   "cell_type": "code",
   "execution_count": 104,
   "metadata": {},
   "outputs": [
    {
     "name": "stdout",
     "output_type": "stream",
     "text": [
      "[[-2.10389253 -1.59336644]\n",
      " [-0.55407235 -1.07190106]\n",
      " [-1.52166278 -1.59336644]\n",
      " [-1.78973979 -1.85409913]\n",
      " [-0.63784641 -0.28970299]\n",
      " [-1.52166278 -1.59336644]\n",
      " [-0.76769621 -0.55043568]\n",
      " [ 0.3046118  -0.28970299]\n",
      " [-0.7551301  -0.28970299]\n",
      " [-0.59595938 -0.0289703 ]\n",
      " [-1.30803892 -1.33263375]\n",
      " [-1.26615189 -0.81116837]\n",
      " [-0.7551301  -1.59336644]\n",
      " [-0.16871166 -0.0289703 ]\n",
      " [ 0.14125238 -0.0289703 ]\n",
      " [ 0.15800719 -0.0289703 ]\n",
      " [ 0.3046118  -0.0289703 ]\n",
      " [-0.05142797  1.53542584]\n",
      " [-0.72580918 -0.0289703 ]\n",
      " [ 0.14962979  1.01396046]\n",
      " [ 1.2219378  -0.0289703 ]\n",
      " [ 0.5685001   1.01396046]\n",
      " [ 0.3046118   1.27469315]\n",
      " [ 0.51404696 -0.0289703 ]\n",
      " [ 0.51404696  1.01396046]\n",
      " [ 0.72348212 -0.28970299]\n",
      " [ 0.8281997   1.01396046]\n",
      " [ 1.81254495  1.01396046]\n",
      " [ 0.96642691 -0.0289703 ]\n",
      " [ 1.72877089  1.01396046]\n",
      " [ 1.30990057  1.27469315]\n",
      " [ 1.90050772  1.01396046]\n",
      " [-0.23991961 -0.0289703 ]\n",
      " [ 0.40932938 -0.0289703 ]\n",
      " [ 0.47215993 -0.0289703 ]\n",
      " [ 0.4302729   2.31762392]]\n"
     ]
    }
   ],
   "source": [
    "scale = StandardScaler()\n",
    "\n",
    "df = pandas.read_csv(\"cars2.csv\")\n",
    "\n",
    "X = df[['Weight', 'Volume']]\n",
    "\n",
    "scaledX = scale.fit_transform(X)\n",
    "\n",
    "print(scaledX)"
   ]
  },
  {
   "cell_type": "code",
   "execution_count": 106,
   "metadata": {},
   "outputs": [
    {
     "name": "stdout",
     "output_type": "stream",
     "text": [
      "[107.2087328]\n"
     ]
    }
   ],
   "source": [
    "scale = StandardScaler()\n",
    "\n",
    "df = pandas.read_csv(\"cars2.csv\")\n",
    "\n",
    "X = df[['Weight', 'Volume']]\n",
    "y = df['CO2']\n",
    "\n",
    "scaledX = scale.fit_transform(X)\n",
    "\n",
    "regr = linear_model.LinearRegression()\n",
    "regr.fit(scaledX, y)\n",
    "\n",
    "scaled = scale.transform([[2300, 1.3]])\n",
    "\n",
    "predictedCO2 = regr.predict([scaled[0]])\n",
    "print(predictedCO2)"
   ]
  },
  {
   "cell_type": "code",
   "execution_count": null,
   "metadata": {},
   "outputs": [],
   "source": []
  },
  {
   "cell_type": "code",
   "execution_count": null,
   "metadata": {},
   "outputs": [],
   "source": [
    "#Train/Test"
   ]
  },
  {
   "cell_type": "code",
   "execution_count": 107,
   "metadata": {},
   "outputs": [
    {
     "data": {
      "image/png": "[encoded data removed]",
      "text/plain": [
       "<Figure size 432x288 with 1 Axes>"
      ]
     },
     "metadata": {
      "needs_background": "light"
     },
     "output_type": "display_data"
    }
   ],
   "source": [
    "numpy.random.seed(2)\n",
    "\n",
    "x = numpy.random.normal(3, 1, 100)\n",
    "y = numpy.random.normal(150, 40, 100) / x\n",
    "\n",
    "plt.scatter(x, y)\n",
    "plt.show()"
   ]
  },
  {
   "cell_type": "code",
   "execution_count": 108,
   "metadata": {},
   "outputs": [],
   "source": [
    "train_x = x[:80]\n",
    "train_y = y[:80]\n",
    "\n",
    "test_x = x[80:]\n",
    "test_y = y[80:]"
   ]
  },
  {
   "cell_type": "code",
   "execution_count": 109,
   "metadata": {},
   "outputs": [
    {
     "data": {
      "image/png": "[encoded data removed]",
      "text/plain": [
       "<Figure size 432x288 with 1 Axes>"
      ]
     },
     "metadata": {
      "needs_background": "light"
     },
     "output_type": "display_data"
    }
   ],
   "source": [
    "plt.scatter(train_x, train_y)\n",
    "plt.show()"
   ]
  },
  {
   "cell_type": "code",
   "execution_count": 110,
   "metadata": {},
   "outputs": [
    {
     "data": {
      "image/png": "[encoded data removed]",
      "text/plain": [
       "<Figure size 432x288 with 1 Axes>"
      ]
     },
     "metadata": {
      "needs_background": "light"
     },
     "output_type": "display_data"
    }
   ],
   "source": [
    "plt.scatter(test_x, test_y)\n",
    "plt.show()"
   ]
  },
  {
   "cell_type": "code",
   "execution_count": 111,
   "metadata": {},
   "outputs": [
    {
     "data": {
      "image/png": "[encoded data removed]",
      "text/plain": [
       "<Figure size 432x288 with 1 Axes>"
      ]
     },
     "metadata": {
      "needs_background": "light"
     },
     "output_type": "display_data"
    }
   ],
   "source": [
    "numpy.random.seed(2)\n",
    "\n",
    "x = numpy.random.normal(3, 1, 100)\n",
    "y = numpy.random.normal(150, 40, 100) / x\n",
    "\n",
    "train_x = x[:80]\n",
    "train_y = y[:80]\n",
    "\n",
    "test_x = x[80:]\n",
    "test_y = y[80:]\n",
    "\n",
    "mymodel = numpy.poly1d(numpy.polyfit(train_x, train_y, 4))\n",
    "\n",
    "myline = numpy.linspace(0, 6, 100)\n",
    "\n",
    "plt.scatter(train_x, train_y)\n",
    "plt.plot(myline, mymodel(myline))\n",
    "plt.show()"
   ]
  },
  {
   "cell_type": "code",
   "execution_count": 112,
   "metadata": {},
   "outputs": [
    {
     "name": "stdout",
     "output_type": "stream",
     "text": [
      "0.7988645544629795\n"
     ]
    }
   ],
   "source": [
    "numpy.random.seed(2)\n",
    "\n",
    "x = numpy.random.normal(3, 1, 100)\n",
    "y = numpy.random.normal(150, 40, 100) / x\n",
    "\n",
    "train_x = x[:80]\n",
    "train_y = y[:80]\n",
    "\n",
    "test_x = x[80:]\n",
    "test_y = y[80:]\n",
    "\n",
    "mymodel = numpy.poly1d(numpy.polyfit(train_x, train_y, 4))\n",
    "\n",
    "r2 = r2_score(train_y, mymodel(train_x))\n",
    "\n",
    "print(r2)"
   ]
  },
  {
   "cell_type": "code",
   "execution_count": 113,
   "metadata": {},
   "outputs": [
    {
     "name": "stdout",
     "output_type": "stream",
     "text": [
      "0.8086921460343677\n"
     ]
    }
   ],
   "source": [
    "numpy.random.seed(2)\n",
    "\n",
    "x = numpy.random.normal(3, 1, 100)\n",
    "y = numpy.random.normal(150, 40, 100) / x\n",
    "\n",
    "train_x = x[:80]\n",
    "train_y = y[:80]\n",
    "\n",
    "test_x = x[80:]\n",
    "test_y = y[80:]\n",
    "\n",
    "mymodel = numpy.poly1d(numpy.polyfit(train_x, train_y, 4))\n",
    "\n",
    "r2 = r2_score(test_y, mymodel(test_x))\n",
    "\n",
    "print(r2)"
   ]
  },
  {
   "cell_type": "code",
   "execution_count": 114,
   "metadata": {},
   "outputs": [
    {
     "name": "stdout",
     "output_type": "stream",
     "text": [
      "22.87962591812061\n"
     ]
    }
   ],
   "source": [
    "print(mymodel(5))"
   ]
  },
  {
   "cell_type": "code",
   "execution_count": null,
   "metadata": {},
   "outputs": [],
   "source": []
  },
  {
   "cell_type": "code",
   "execution_count": null,
   "metadata": {},
   "outputs": [],
   "source": [
    "#Decision Tree Classifier"
   ]
  },
  {
   "cell_type": "code",
   "execution_count": 129,
   "metadata": {},
   "outputs": [
    {
     "name": "stdout",
     "output_type": "stream",
     "text": [
      "    Age  Experience  Rank Nationality   Go\n",
      "0    36          10     9          UK   NO\n",
      "1    42          12     4         USA   NO\n",
      "2    23           4     6           N   NO\n",
      "3    52           4     4         USA   NO\n",
      "4    43          21     8         USA  YES\n",
      "5    44          14     5          UK   NO\n",
      "6    66           3     7           N  YES\n",
      "7    35          14     9          UK  YES\n",
      "8    52          13     7           N  YES\n",
      "9    35           5     9           N  YES\n",
      "10   24           3     5         USA   NO\n",
      "11   18           3     7          UK  YES\n",
      "12   45           9     9          UK  YES\n"
     ]
    }
   ],
   "source": [
    "import pandas\n",
    "from sklearn import tree\n",
    "import pydotplus\n",
    "from sklearn.tree import DecisionTreeClassifier\n",
    "import matplotlib.pyplot as plt\n",
    "import matplotlib.image as pltimg\n",
    "\n",
    "df = pandas.read_csv(\"shows.csv\")\n",
    "\n",
    "print(df)"
   ]
  },
  {
   "cell_type": "code",
   "execution_count": 130,
   "metadata": {},
   "outputs": [
    {
     "name": "stdout",
     "output_type": "stream",
     "text": [
      "    Age  Experience  Rank  Nationality  Go\n",
      "0    36          10     9            0   0\n",
      "1    42          12     4            1   0\n",
      "2    23           4     6            2   0\n",
      "3    52           4     4            1   0\n",
      "4    43          21     8            1   1\n",
      "5    44          14     5            0   0\n",
      "6    66           3     7            2   1\n",
      "7    35          14     9            0   1\n",
      "8    52          13     7            2   1\n",
      "9    35           5     9            2   1\n",
      "10   24           3     5            1   0\n",
      "11   18           3     7            0   1\n",
      "12   45           9     9            0   1\n"
     ]
    }
   ],
   "source": [
    "d = {'UK': 0, 'USA': 1, 'N': 2}\n",
    "df['Nationality'] = df['Nationality'].map(d)\n",
    "d = {'YES': 1, 'NO': 0}\n",
    "df['Go'] = df['Go'].map(d)\n",
    "\n",
    "print(df)"
   ]
  },
  {
   "cell_type": "code",
   "execution_count": 131,
   "metadata": {},
   "outputs": [
    {
     "name": "stdout",
     "output_type": "stream",
     "text": [
      "    Age  Experience  Rank  Nationality\n",
      "0    36          10     9            0\n",
      "1    42          12     4            1\n",
      "2    23           4     6            2\n",
      "3    52           4     4            1\n",
      "4    43          21     8            1\n",
      "5    44          14     5            0\n",
      "6    66           3     7            2\n",
      "7    35          14     9            0\n",
      "8    52          13     7            2\n",
      "9    35           5     9            2\n",
      "10   24           3     5            1\n",
      "11   18           3     7            0\n",
      "12   45           9     9            0\n",
      "0     0\n",
      "1     0\n",
      "2     0\n",
      "3     0\n",
      "4     1\n",
      "5     0\n",
      "6     1\n",
      "7     1\n",
      "8     1\n",
      "9     1\n",
      "10    0\n",
      "11    1\n",
      "12    1\n",
      "Name: Go, dtype: int64\n"
     ]
    }
   ],
   "source": [
    "features = ['Age', 'Experience', 'Rank', 'Nationality']\n",
    "\n",
    "X = df[features]\n",
    "y = df['Go']\n",
    "\n",
    "print(X)\n",
    "print(y)"
   ]
  },
  {
   "cell_type": "code",
   "execution_count": 132,
   "metadata": {},
   "outputs": [
    {
     "data": {
      "image/png": "[encoded data removed]",
      "text/plain": [
       "<Figure size 432x288 with 1 Axes>"
      ]
     },
     "metadata": {
      "needs_background": "light"
     },
     "output_type": "display_data"
    }
   ],
   "source": [
    "dtree = DecisionTreeClassifier()\n",
    "dtree = dtree.fit(X, y)\n",
    "data = tree.export_graphviz(dtree, out_file=None, feature_names=features)\n",
    "graph = pydotplus.graph_from_dot_data(data)\n",
    "graph.write_png('mydecisiontree.png')\n",
    "\n",
    "img=pltimg.imread('mydecisiontree.png')\n",
    "imgplot = plt.imshow(img)\n",
    "plt.show()"
   ]
  },
  {
   "cell_type": "code",
   "execution_count": 133,
   "metadata": {},
   "outputs": [
    {
     "name": "stdout",
     "output_type": "stream",
     "text": [
      "[1]\n"
     ]
    }
   ],
   "source": [
    "print(dtree.predict([[40, 10, 7, 1]]))"
   ]
  },
  {
   "cell_type": "code",
   "execution_count": 134,
   "metadata": {},
   "outputs": [
    {
     "name": "stdout",
     "output_type": "stream",
     "text": [
      "[0]\n"
     ]
    }
   ],
   "source": [
    "print(dtree.predict([[40, 10, 6, 1]]))"
   ]
  },
  {
   "cell_type": "code",
   "execution_count": null,
   "metadata": {},
   "outputs": [],
   "source": []
  }
 ],
 "metadata": {
  "kernelspec": {
   "display_name": "Python 3 (ipykernel)",
   "language": "python",
   "name": "python3"
  },
  "language_info": {
   "codemirror_mode": {
    "name": "ipython",
    "version": 3
   },
   "file_extension": ".py",
   "mimetype": "text/x-python",
   "name": "python",
   "nbconvert_exporter": "python",
   "pygments_lexer": "ipython3",
   "version": "3.8.8"
  }
 },
 "nbformat": 4,
 "nbformat_minor": 2
}
