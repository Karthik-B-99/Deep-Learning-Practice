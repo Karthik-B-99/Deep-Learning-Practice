{
 "cells": [
  {
   "cell_type": "code",
   "execution_count": null,
   "metadata": {},
   "outputs": [],
   "source": [
    "#Implementation of logical gates with single layer perceptron."
   ]
  },
  {
   "cell_type": "code",
   "execution_count": null,
   "metadata": {},
   "outputs": [],
   "source": []
  },
  {
   "cell_type": "code",
   "execution_count": 56,
   "metadata": {},
   "outputs": [],
   "source": [
    "import numpy as np\n",
    "import perceptron"
   ]
  },
  {
   "cell_type": "code",
   "execution_count": 87,
   "metadata": {},
   "outputs": [
    {
     "name": "stdout",
     "output_type": "stream",
     "text": [
      "\n",
      "\n",
      "\n",
      "\n",
      "Logic Function : AND\n",
      "\n",
      "A\tB\tC\n",
      "0\t0\t0.0\n",
      "0\t1\t0.0\n",
      "1\t0\t0.0\n",
      "1\t1\t1.0\n",
      "\n",
      "\n",
      "\n",
      "\n",
      "Logic Function : OR\n",
      "\n",
      "A\tB\tC\n",
      "0\t0\t0.0\n",
      "0\t1\t1.0\n",
      "1\t0\t1.0\n",
      "1\t1\t1.0\n",
      "\n",
      "\n",
      "\n",
      "\n",
      "Logic Function : NOT\n",
      "\n",
      "A\tB\tC\n",
      "0\t0\t1.0\n",
      "0\t1\t0.0\n",
      "\n",
      "\n",
      "\n",
      "\n",
      "Logic Function : NAND\n",
      "\n",
      "A\tB\tC\n",
      "0\t0\t1.0\n",
      "0\t1\t1.0\n",
      "1\t0\t1.0\n",
      "1\t1\t0.0\n",
      "\n",
      "\n",
      "\n",
      "\n",
      "Logic Function : NOR\n",
      "\n",
      "A\tB\tC\n",
      "0\t0\t1.0\n",
      "0\t1\t0.0\n",
      "1\t0\t0.0\n",
      "1\t1\t0.0\n"
     ]
    }
   ],
   "source": [
    "def perceptron(weights, inputs, bias):\n",
    "    model = np.add(np.dot(inputs, weights), bias)\n",
    "    logit = activation_function(model, type=\"sigmoid\")\n",
    "    return np.round(logit)\n",
    "\n",
    "def activation_function(model, type=\"sigmoid\"):\n",
    "    return {\n",
    "        \"sigmoid\": 1 / (1 + np.exp(-model))\n",
    "    }[type]\n",
    "\n",
    "\n",
    "def compute(data, logic_gate, weights, bias):\n",
    "    weights = np.array(weights)\n",
    "    output = np.array([ perceptron(weights, datum, bias) for datum in data ])\n",
    "    return output\n",
    "\n",
    "\n",
    "\n",
    "def print_template(dataset, name, data):\n",
    "    # act = name[6:]\n",
    "    print(\"\\n\\n\\n\\nLogic Function : {}\\n\".format(name.upper()))\n",
    "    print(\"A\\tB\\tC\")\n",
    "    toPrint = [\"{1}\\t{2}\\t{0}\".format(output, *datas) for datas, output in zip(dataset, data)]\n",
    "    for i in toPrint:\n",
    "        print(i)\n",
    "\n",
    "\n",
    "def main():\n",
    "    dataset = np.array([\n",
    "      [0, 0],\n",
    "      [0, 1],\n",
    "      [1, 0],\n",
    "      [1, 1]\n",
    "    ])\n",
    "    gates = {\n",
    "        \"and\": compute(dataset, \"and\", [1, 1], -1),\n",
    "        \"or\": compute(dataset, \"or\", [1, 1], -0.9),\n",
    "        \"not\": compute(np.array([ [0], [1] ]), \"not\", [-1], 1),\n",
    "        \"nand\": compute(dataset, \"nand\", [-1, -1], 2),\n",
    "        \"nor\": compute(dataset, \"nor\", [-1, -1], 1),\n",
    "        # _xor = compute(dataset, \"and\", [1], dataset),\n",
    "        # _xnor = compute(dataset, \"xnor\", [], dataset)\n",
    "    }\n",
    "\n",
    "    for gate in gates:\n",
    "        print_template(dataset, gate, gates[gate])\n",
    "\n",
    "\n",
    "\n",
    "if __name__ == '__main__':\n",
    "    main()"
   ]
  },
  {
   "cell_type": "code",
   "execution_count": null,
   "metadata": {},
   "outputs": [],
   "source": []
  }
 ],
 "metadata": {
  "kernelspec": {
   "display_name": "Python 3 (ipykernel)",
   "language": "python",
   "name": "python3"
  },
  "language_info": {
   "codemirror_mode": {
    "name": "ipython",
    "version": 3
   },
   "file_extension": ".py",
   "mimetype": "text/x-python",
   "name": "python",
   "nbconvert_exporter": "python",
   "pygments_lexer": "ipython3",
   "version": "3.8.8"
  }
 },
 "nbformat": 4,
 "nbformat_minor": 2
}
